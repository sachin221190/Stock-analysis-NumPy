{
 "cells": [
  {
   "cell_type": "code",
   "execution_count": 1,
   "metadata": {},
   "outputs": [],
   "source": [
    "import numpy as np"
   ]
  },
  {
   "cell_type": "code",
   "execution_count": 70,
   "metadata": {},
   "outputs": [
    {
     "name": "stdout",
     "output_type": "stream",
     "text": [
      "[['Date' 'Open' 'High' ... 'Close' 'Total Trade Quantity'\n",
      "  'Turnover (Lacs)']\n",
      " ['2019-01-04' '292.1' '299.0' ... '297.65' '19514041.0' '57796.86']\n",
      " ['2019-01-03' '295.0' '295.55' ... '291.1' '17548347.0' '51393.24']\n",
      " ...\n",
      " ['1998-03-25' '285.0' '290.25' ... '289.15' '3632600.0' '10436.93']\n",
      " ['1998-03-24' '282.0' '288.4' ... '284.35' '4979900.0' '14231.55']\n",
      " ['1998-03-23' '278.45' '280.9' ... '279.95' '591700.0' '1654.91']]\n"
     ]
    }
   ],
   "source": [
    "loaddata=np.genfromtxt('/home/kunalverma/Itronix Solutions/dummy/NSE-SBIN.csv',delimiter=',', dtype=str)\n",
    "print(loaddata)\n",
    "data=loaddata[1:,]"
   ]
  },
  {
   "cell_type": "code",
   "execution_count": 59,
   "metadata": {},
   "outputs": [
    {
     "name": "stdout",
     "output_type": "stream",
     "text": [
      "[['2019-01-04' '292.1' '299.0' ... '297.65' '19514041.0' '57796.86']\n",
      " ['2019-01-03' '295.0' '295.55' ... '291.1' '17548347.0' '51393.24']\n",
      " ['2019-01-02' '299.1' '302.5' ... '293.9' '25559853.0' '76220.1']\n",
      " ...\n",
      " ['1998-03-25' '285.0' '290.25' ... '289.15' '3632600.0' '10436.93']\n",
      " ['1998-03-24' '282.0' '288.4' ... '284.35' '4979900.0' '14231.55']\n",
      " ['1998-03-23' '278.45' '280.9' ... '279.95' '591700.0' '1654.91']]\n"
     ]
    }
   ],
   "source": [
    "print(data)"
   ]
  },
  {
   "cell_type": "code",
   "execution_count": 60,
   "metadata": {},
   "outputs": [
    {
     "name": "stdout",
     "output_type": "stream",
     "text": [
      "Maximum Opening Price :  3505.0\n",
      "Minimum Opening Price :  142.85\n",
      "Total Opening Price Sum :  5068877.600000001\n"
     ]
    }
   ],
   "source": [
    "opendata=np.array(data[:,1] ,dtype=float)\n",
    "#print(opendata)\n",
    "print(\"Maximum Opening Price : \",max(opendata))\n",
    "print(\"Minimum Opening Price : \",min(opendata))\n",
    "print(\"Total Opening Price Sum : \",np.sum(opendata))"
   ]
  },
  {
   "cell_type": "code",
   "execution_count": 61,
   "metadata": {},
   "outputs": [
    {
     "name": "stdout",
     "output_type": "stream",
     "text": [
      "Maximum Closing Share Price :  3451.35\n",
      "Minimum Closing Share Price :  140.05\n",
      "Total Closing Sum  4983137.0\n"
     ]
    }
   ],
   "source": [
    "closedata=np.array(data[:,3],dtype='f4')\n",
    "#print(closedata)\n",
    "print(\"Maximum Closing Share Price : \",max(closedata))\n",
    "print(\"Minimum Closing Share Price : \",min(closedata))\n",
    "print(\"Total Closing Sum \",np.sum(closedata))"
   ]
  },
  {
   "cell_type": "code",
   "execution_count": 62,
   "metadata": {},
   "outputs": [
    {
     "name": "stdout",
     "output_type": "stream",
     "text": [
      "Maximum Trade Quantity :  262677081.0\n",
      "Date :  2017-10-25\n",
      "Minimum Trade Quantity :  3633.0\n",
      "Date :  2001-07-23\n",
      "Total Trade Quantity :  29270464226.0\n"
     ]
    }
   ],
   "source": [
    "tradedata=np.array(data[:,6],dtype=float)\n",
    "print(\"Maximum Trade Quantity : \",max(tradedata))\n",
    "date=np.where(data[...,6]==str(max(tradedata)))\n",
    "print(\"Date : \",data[date,0][0][0])\n",
    "print(\"Minimum Trade Quantity : \",min(tradedata))\n",
    "date=np.where(data[...,6]==str(min(tradedata)))\n",
    "print(\"Date : \",data[date,0][0][0])\n",
    "print(\"Total Trade Quantity : \",np.sum(tradedata))"
   ]
  },
  {
   "cell_type": "code",
   "execution_count": 63,
   "metadata": {},
   "outputs": [
    {
     "name": "stdout",
     "output_type": "stream",
     "text": [
      "Highest Share Price Date  2010-11-08\n"
     ]
    }
   ],
   "source": [
    "highshare=np.array(data[...,2],dtype=float)\n",
    "#print(highshare)\n",
    "date=np.where(data[...,2]==str(max(highshare)))\n",
    "print(\"Highest Share Price Date \",data[date,0][0][0])"
   ]
  },
  {
   "cell_type": "code",
   "execution_count": 64,
   "metadata": {},
   "outputs": [
    {
     "name": "stdout",
     "output_type": "stream",
     "text": [
      "Lowest Share Price Date  2001-09-21\n"
     ]
    }
   ],
   "source": [
    "lowshare=np.array(data[...,3],dtype=float)\n",
    "#print(lowshare)\n",
    "date=np.where(data[...,3]==str(min(lowshare)))\n",
    "print(\"Lowest Share Price Date \",data[date,0][0][0])"
   ]
  },
  {
   "cell_type": "code",
   "execution_count": 65,
   "metadata": {},
   "outputs": [
    {
     "name": "stdout",
     "output_type": "stream",
     "text": [
      "Maximum turnover amount : 816214.09 lacs took place on 2017-10-25\n",
      "Minimum turnover amount : 7.68 lacs took place on 2001-07-23\n",
      "Total turnover Amount 155673568.0699994\n"
     ]
    }
   ],
   "source": [
    "turnover=np.array(data[...,7],dtype=float)\n",
    "date=np.where(data[...,7]==str(max(turnover)))\n",
    "print(\"Maximum turnover amount : {} lacs took place on {}\".format(max(turnover),data[date,0][0][0]))\n",
    "date=np.where(data[...,7]==str(min(turnover)))\n",
    "print(\"Minimum turnover amount : {} lacs took place on {}\".format(min(turnover),data[date,0][0][0]))\n",
    "print(\"Total turnover Amount {}\".format(sum(turnover)))"
   ]
  },
  {
   "cell_type": "markdown",
   "metadata": {},
   "source": [
    "## Yearwise Analysis"
   ]
  },
  {
   "cell_type": "code",
   "execution_count": 124,
   "metadata": {},
   "outputs": [],
   "source": [
    "newdata=np.array(loaddata[1:,],dtype=str)\n",
    "#print(newdata)\n",
    "year=np.array(newdata[...,0],dtype=str)\n",
    "#print(year)\n",
    "j=0\n",
    "for i in newdata:\n",
    "    newdata[j][0]=year[j][0:4]\n",
    "    j+=1"
   ]
  },
  {
   "cell_type": "code",
   "execution_count": 130,
   "metadata": {},
   "outputs": [],
   "source": [
    "def findmaxmin(y):\n",
    "    #print(newdata)\n",
    "\n",
    "    yearlist=np.where(newdata[...,0]==y)\n",
    "\n",
    "    #print(data[yearlist])\n",
    "\n",
    "    turnover=np.array(data[yearlist,7],dtype=float)\n",
    "    print(\"Maximum Turnover in {} was : {} lacs\".format(y,str(max(turnover[0]))))\n",
    "    print(\"Minimum Turnover in {} was : {} lacs\".format(y,str(min(turnover[0]))))\n",
    "    print()"
   ]
  },
  {
   "cell_type": "code",
   "execution_count": 131,
   "metadata": {},
   "outputs": [
    {
     "name": "stdout",
     "output_type": "stream",
     "text": [
      "Maximum Turnover in 1998 was : 22287.85 lacs\n",
      "Minimum Turnover in 1998 was : 1272.39 lacs\n",
      "\n",
      "Maximum Turnover in 1999 was : 43759.9 lacs\n",
      "Minimum Turnover in 1999 was : 949.88 lacs\n",
      "\n",
      "Maximum Turnover in 2000 was : 27614.68 lacs\n",
      "Minimum Turnover in 2000 was : 236.6 lacs\n",
      "\n",
      "Maximum Turnover in 2001 was : 18210.62 lacs\n",
      "Minimum Turnover in 2001 was : 7.68 lacs\n",
      "\n",
      "Maximum Turnover in 2002 was : 26789.64 lacs\n",
      "Minimum Turnover in 2002 was : 78.08 lacs\n",
      "\n",
      "Maximum Turnover in 2003 was : 39371.05 lacs\n",
      "Minimum Turnover in 2003 was : 1267.23 lacs\n",
      "\n",
      "Maximum Turnover in 2004 was : 52812.82 lacs\n",
      "Minimum Turnover in 2004 was : 1877.97 lacs\n",
      "\n",
      "Maximum Turnover in 2005 was : 52614.71 lacs\n",
      "Minimum Turnover in 2005 was : 4403.57 lacs\n",
      "\n",
      "Maximum Turnover in 2006 was : 65564.15 lacs\n",
      "Minimum Turnover in 2006 was : 811.33 lacs\n",
      "\n",
      "Maximum Turnover in 2007 was : 69835.59 lacs\n",
      "Minimum Turnover in 2007 was : 4573.49 lacs\n",
      "\n",
      "Maximum Turnover in 2008 was : 67544.43 lacs\n",
      "Minimum Turnover in 2008 was : 6395.47 lacs\n",
      "\n",
      "Maximum Turnover in 2009 was : 152930.66 lacs\n",
      "Minimum Turnover in 2009 was : 908.82 lacs\n",
      "\n",
      "Maximum Turnover in 2010 was : 174319.9 lacs\n",
      "Minimum Turnover in 2010 was : 4010.76 lacs\n",
      "\n",
      "Maximum Turnover in 2011 was : 198259.01 lacs\n",
      "Minimum Turnover in 2011 was : 12480.39 lacs\n",
      "\n",
      "Maximum Turnover in 2012 was : 208937.34 lacs\n",
      "Minimum Turnover in 2012 was : 2942.0 lacs\n",
      "\n",
      "Maximum Turnover in 2013 was : 142830.31 lacs\n",
      "Minimum Turnover in 2013 was : 2509.77 lacs\n",
      "\n",
      "Maximum Turnover in 2014 was : 237910.85 lacs\n",
      "Minimum Turnover in 2014 was : 1505.09 lacs\n",
      "\n",
      "Maximum Turnover in 2015 was : 211053.44 lacs\n",
      "Minimum Turnover in 2015 was : 5015.68 lacs\n",
      "\n",
      "Maximum Turnover in 2016 was : 208367.28 lacs\n",
      "Minimum Turnover in 2016 was : 5441.67 lacs\n",
      "\n",
      "Maximum Turnover in 2017 was : 816214.09 lacs\n",
      "Minimum Turnover in 2017 was : 6203.65 lacs\n",
      "\n",
      "Maximum Turnover in 2018 was : 349358.78 lacs\n",
      "Minimum Turnover in 2018 was : 9496.39 lacs\n",
      "\n",
      "Maximum Turnover in 2019 was : 76220.1 lacs\n",
      "Minimum Turnover in 2019 was : 35128.77 lacs\n",
      "\n"
     ]
    }
   ],
   "source": [
    "yearlist=np.array(newdata[...,0],dtype=str)\n",
    "yearlist=list(set(yearlist))\n",
    "yearlist.sort()\n",
    "for i in range(len(yearlist)):\n",
    "    findmaxmin(yearlist[i])"
   ]
  }
 ],
 "metadata": {
  "kernelspec": {
   "display_name": "Python 3",
   "language": "python",
   "name": "python3"
  },
  "language_info": {
   "codemirror_mode": {
    "name": "ipython",
    "version": 3
   },
   "file_extension": ".py",
   "mimetype": "text/x-python",
   "name": "python",
   "nbconvert_exporter": "python",
   "pygments_lexer": "ipython3",
   "version": "3.6.7"
  }
 },
 "nbformat": 4,
 "nbformat_minor": 2
}
